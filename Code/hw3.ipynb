{
 "cells": [
  {
   "cell_type": "code",
   "execution_count": 3,
   "metadata": {},
   "outputs": [],
   "source": [
    "import pandas as pd\n",
    "import numpy as np"
   ]
  },
  {
   "cell_type": "code",
   "execution_count": 4,
   "metadata": {},
   "outputs": [],
   "source": [
    "\n",
    "D2z_dir = 'hw3Data/D2z.txt'\n",
    "names = ['x1', 'x2', 'y']\n",
    "df_d2z = pd.read_csv(D2z_dir, sep=\" \", names=names)"
   ]
  },
  {
   "cell_type": "code",
   "execution_count": 3,
   "metadata": {},
   "outputs": [
    {
     "data": {
      "text/html": [
       "<div>\n",
       "<style scoped>\n",
       "    .dataframe tbody tr th:only-of-type {\n",
       "        vertical-align: middle;\n",
       "    }\n",
       "\n",
       "    .dataframe tbody tr th {\n",
       "        vertical-align: top;\n",
       "    }\n",
       "\n",
       "    .dataframe thead th {\n",
       "        text-align: right;\n",
       "    }\n",
       "</style>\n",
       "<table border=\"1\" class=\"dataframe\">\n",
       "  <thead>\n",
       "    <tr style=\"text-align: right;\">\n",
       "      <th></th>\n",
       "      <th>x1</th>\n",
       "      <th>x2</th>\n",
       "      <th>y</th>\n",
       "    </tr>\n",
       "  </thead>\n",
       "  <tbody>\n",
       "    <tr>\n",
       "      <th>0</th>\n",
       "      <td>-0.333338</td>\n",
       "      <td>-0.087171</td>\n",
       "      <td>0</td>\n",
       "    </tr>\n",
       "    <tr>\n",
       "      <th>1</th>\n",
       "      <td>-1.531730</td>\n",
       "      <td>0.358194</td>\n",
       "      <td>1</td>\n",
       "    </tr>\n",
       "    <tr>\n",
       "      <th>2</th>\n",
       "      <td>1.549590</td>\n",
       "      <td>-0.364050</td>\n",
       "      <td>0</td>\n",
       "    </tr>\n",
       "    <tr>\n",
       "      <th>3</th>\n",
       "      <td>-1.349910</td>\n",
       "      <td>0.252063</td>\n",
       "      <td>1</td>\n",
       "    </tr>\n",
       "    <tr>\n",
       "      <th>4</th>\n",
       "      <td>1.283850</td>\n",
       "      <td>-0.531146</td>\n",
       "      <td>0</td>\n",
       "    </tr>\n",
       "    <tr>\n",
       "      <th>...</th>\n",
       "      <td>...</td>\n",
       "      <td>...</td>\n",
       "      <td>...</td>\n",
       "    </tr>\n",
       "    <tr>\n",
       "      <th>195</th>\n",
       "      <td>-0.697750</td>\n",
       "      <td>1.098280</td>\n",
       "      <td>1</td>\n",
       "    </tr>\n",
       "    <tr>\n",
       "      <th>196</th>\n",
       "      <td>1.161160</td>\n",
       "      <td>-0.733751</td>\n",
       "      <td>0</td>\n",
       "    </tr>\n",
       "    <tr>\n",
       "      <th>197</th>\n",
       "      <td>-1.288480</td>\n",
       "      <td>0.443773</td>\n",
       "      <td>1</td>\n",
       "    </tr>\n",
       "    <tr>\n",
       "      <th>198</th>\n",
       "      <td>-1.384200</td>\n",
       "      <td>0.526523</td>\n",
       "      <td>1</td>\n",
       "    </tr>\n",
       "    <tr>\n",
       "      <th>199</th>\n",
       "      <td>-0.076601</td>\n",
       "      <td>-0.707686</td>\n",
       "      <td>0</td>\n",
       "    </tr>\n",
       "  </tbody>\n",
       "</table>\n",
       "<p>200 rows × 3 columns</p>\n",
       "</div>"
      ],
      "text/plain": [
       "           x1        x2  y\n",
       "0   -0.333338 -0.087171  0\n",
       "1   -1.531730  0.358194  1\n",
       "2    1.549590 -0.364050  0\n",
       "3   -1.349910  0.252063  1\n",
       "4    1.283850 -0.531146  0\n",
       "..        ...       ... ..\n",
       "195 -0.697750  1.098280  1\n",
       "196  1.161160 -0.733751  0\n",
       "197 -1.288480  0.443773  1\n",
       "198 -1.384200  0.526523  1\n",
       "199 -0.076601 -0.707686  0\n",
       "\n",
       "[200 rows x 3 columns]"
      ]
     },
     "execution_count": 3,
     "metadata": {},
     "output_type": "execute_result"
    }
   ],
   "source": [
    "df_d2z"
   ]
  },
  {
   "cell_type": "code",
   "execution_count": 5,
   "metadata": {},
   "outputs": [
    {
     "data": {
      "text/html": [
       "<div>\n",
       "<style scoped>\n",
       "    .dataframe tbody tr th:only-of-type {\n",
       "        vertical-align: middle;\n",
       "    }\n",
       "\n",
       "    .dataframe tbody tr th {\n",
       "        vertical-align: top;\n",
       "    }\n",
       "\n",
       "    .dataframe thead th {\n",
       "        text-align: right;\n",
       "    }\n",
       "</style>\n",
       "<table border=\"1\" class=\"dataframe\">\n",
       "  <thead>\n",
       "    <tr style=\"text-align: right;\">\n",
       "      <th></th>\n",
       "      <th>x1</th>\n",
       "      <th>x2</th>\n",
       "      <th>y</th>\n",
       "    </tr>\n",
       "  </thead>\n",
       "  <tbody>\n",
       "    <tr>\n",
       "      <th>0</th>\n",
       "      <td>-0.333338</td>\n",
       "      <td>-0.087171</td>\n",
       "      <td>0</td>\n",
       "    </tr>\n",
       "    <tr>\n",
       "      <th>1</th>\n",
       "      <td>-1.531730</td>\n",
       "      <td>0.358194</td>\n",
       "      <td>1</td>\n",
       "    </tr>\n",
       "    <tr>\n",
       "      <th>2</th>\n",
       "      <td>1.549590</td>\n",
       "      <td>-0.364050</td>\n",
       "      <td>0</td>\n",
       "    </tr>\n",
       "    <tr>\n",
       "      <th>3</th>\n",
       "      <td>-1.349910</td>\n",
       "      <td>0.252063</td>\n",
       "      <td>1</td>\n",
       "    </tr>\n",
       "    <tr>\n",
       "      <th>4</th>\n",
       "      <td>1.283850</td>\n",
       "      <td>-0.531146</td>\n",
       "      <td>0</td>\n",
       "    </tr>\n",
       "  </tbody>\n",
       "</table>\n",
       "</div>"
      ],
      "text/plain": [
       "         x1        x2  y\n",
       "0 -0.333338 -0.087171  0\n",
       "1 -1.531730  0.358194  1\n",
       "2  1.549590 -0.364050  0\n",
       "3 -1.349910  0.252063  1\n",
       "4  1.283850 -0.531146  0"
      ]
     },
     "execution_count": 5,
     "metadata": {},
     "output_type": "execute_result"
    }
   ],
   "source": [
    "df_d2z.iloc[:5,:]"
   ]
  },
  {
   "cell_type": "code",
   "execution_count": 5,
   "metadata": {},
   "outputs": [],
   "source": [
    "class KNN_Classifier:\n",
    "    def __init__ (self, k):\n",
    "        self.k = k\n",
    "\n",
    "    def fit(self, data: pd.DataFrame):\n",
    "        self.data = data\n",
    "        self.data_np = data.to_numpy()\n",
    "    \n",
    "    # def _predict_single_df(self, x):\n",
    "    #     distance = []\n",
    "    #     for idx, row in self.data.iterrows():\n",
    "    #         distance_single = np.sqrt(np.sum((x - np.array(row)[:-1])**2))\n",
    "    #         distance.append(distance_single)\n",
    "    #     distance = np.array(distance)\n",
    "    #     distance_arg = np.argpartition(distance, self.k)\n",
    "    #     temp_data = self.data.iloc[distance_arg[:self.k]]\n",
    "    #     label = 1 if temp_data.iloc[:, -1].sum()/len(temp_data) > 0.5 else 0\n",
    "    #     return label\n",
    "    \n",
    "    def _predict_np(self, X, prob = False):\n",
    "        result = []\n",
    "        for x in X:\n",
    "            distance = []\n",
    "            for row in self.data_np:\n",
    "                distance_single = np.sum((x - np.array(row)[:-1])**2)\n",
    "                distance.append(distance_single)\n",
    "            distance = np.array(distance)\n",
    "            distance_arg = np.argpartition(distance, self.k)\n",
    "            temp_data = self.data_np[distance_arg[:self.k]]\n",
    "            if(prob):\n",
    "                label = np.sum(temp_data[:, -1])/len(temp_data)\n",
    "            else:\n",
    "                label = 1 if np.sum(temp_data[:, -1])/len(temp_data) > 0.5 else 0\n",
    "            result.append(label)\n",
    "        return np.array(result)\n",
    "\n",
    "    def predict(self, X):\n",
    "        return self._predict_np(X)\n",
    "    \n",
    "    def predict_prob(self, X):\n",
    "        return self._predict_np(X, prob=True)\n",
    "\n",
    "    \n",
    "    def set_k(self, k):\n",
    "        self.k = k"
   ]
  },
  {
   "cell_type": "code",
   "execution_count": 6,
   "metadata": {},
   "outputs": [],
   "source": [
    "my_KNN = KNN_Classifier(1)\n",
    "my_KNN.fit(df_d2z)\n",
    "x_min, x_max = -2, 2\n",
    "y_min, y_max = -2, 2\n",
    "xx, yy = np.meshgrid(np.linspace(x_min,x_max, 41),\n",
    "np.linspace(y_min, y_max, 41))\n",
    "x_in = np.c_[xx.ravel(), yy.ravel()]\n",
    "y_pred = my_KNN.predict(x_in)\n"
   ]
  },
  {
   "cell_type": "code",
   "execution_count": 52,
   "metadata": {},
   "outputs": [
    {
     "data": {
      "image/png": "[encoded data removed]",
      "text/plain": [
       "<Figure size 432x288 with 1 Axes>"
      ]
     },
     "metadata": {
      "needs_background": "light"
     },
     "output_type": "display_data"
    }
   ],
   "source": [
    "import matplotlib.pyplot as plt\n",
    "y_pred = y_pred.reshape(xx.shape)\n",
    "plt.scatter(x_in[:,0], x_in[:, 1] , c = y_pred, s=3, cmap=plt.cm.RdYlBu, alpha=0.7 )\n",
    "plt.scatter(df_d2z['x1'][df_d2z['y']==0], df_d2z['x2'][df_d2z['y']==0] , c = 'r', s=50, cmap=plt.cm.RdYlBu, alpha=1,marker=\"+\" )\n",
    "plt.scatter(df_d2z['x1'][df_d2z['y']==1], df_d2z['x2'][df_d2z['y']==1] , c = 'b', s=50, cmap=plt.cm.RdYlBu, alpha=1,marker=\"x\" )\n",
    "plt.xlim(-2, 2)\n",
    "plt.ylim(-2, 2)\n",
    "plt.xlabel('x1')\n",
    "plt.ylabel('x2')\n",
    "plt.savefig(\"hw3Plot/Decision_boundary_K1.pdf\")"
   ]
  },
  {
   "cell_type": "code",
   "execution_count": 7,
   "metadata": {},
   "outputs": [],
   "source": [
    "pd_email = pd.read_csv('hw3Data\\emails.csv', index_col='Email No.')"
   ]
  },
  {
   "cell_type": "code",
   "execution_count": 9,
   "metadata": {},
   "outputs": [
    {
     "data": {
      "text/html": [
       "<div>\n",
       "<style scoped>\n",
       "    .dataframe tbody tr th:only-of-type {\n",
       "        vertical-align: middle;\n",
       "    }\n",
       "\n",
       "    .dataframe tbody tr th {\n",
       "        vertical-align: top;\n",
       "    }\n",
       "\n",
       "    .dataframe thead th {\n",
       "        text-align: right;\n",
       "    }\n",
       "</style>\n",
       "<table border=\"1\" class=\"dataframe\">\n",
       "  <thead>\n",
       "    <tr style=\"text-align: right;\">\n",
       "      <th></th>\n",
       "      <th>the</th>\n",
       "      <th>to</th>\n",
       "      <th>ect</th>\n",
       "      <th>and</th>\n",
       "      <th>for</th>\n",
       "      <th>of</th>\n",
       "      <th>a</th>\n",
       "      <th>you</th>\n",
       "      <th>hou</th>\n",
       "      <th>in</th>\n",
       "      <th>...</th>\n",
       "      <th>connevey</th>\n",
       "      <th>jay</th>\n",
       "      <th>valued</th>\n",
       "      <th>lay</th>\n",
       "      <th>infrastructure</th>\n",
       "      <th>military</th>\n",
       "      <th>allowing</th>\n",
       "      <th>ff</th>\n",
       "      <th>dry</th>\n",
       "      <th>Prediction</th>\n",
       "    </tr>\n",
       "    <tr>\n",
       "      <th>Email No.</th>\n",
       "      <th></th>\n",
       "      <th></th>\n",
       "      <th></th>\n",
       "      <th></th>\n",
       "      <th></th>\n",
       "      <th></th>\n",
       "      <th></th>\n",
       "      <th></th>\n",
       "      <th></th>\n",
       "      <th></th>\n",
       "      <th></th>\n",
       "      <th></th>\n",
       "      <th></th>\n",
       "      <th></th>\n",
       "      <th></th>\n",
       "      <th></th>\n",
       "      <th></th>\n",
       "      <th></th>\n",
       "      <th></th>\n",
       "      <th></th>\n",
       "      <th></th>\n",
       "    </tr>\n",
       "  </thead>\n",
       "  <tbody>\n",
       "    <tr>\n",
       "      <th>Email 1</th>\n",
       "      <td>0</td>\n",
       "      <td>0</td>\n",
       "      <td>1</td>\n",
       "      <td>0</td>\n",
       "      <td>0</td>\n",
       "      <td>0</td>\n",
       "      <td>2</td>\n",
       "      <td>0</td>\n",
       "      <td>0</td>\n",
       "      <td>0</td>\n",
       "      <td>...</td>\n",
       "      <td>0</td>\n",
       "      <td>0</td>\n",
       "      <td>0</td>\n",
       "      <td>0</td>\n",
       "      <td>0</td>\n",
       "      <td>0</td>\n",
       "      <td>0</td>\n",
       "      <td>0</td>\n",
       "      <td>0</td>\n",
       "      <td>0</td>\n",
       "    </tr>\n",
       "    <tr>\n",
       "      <th>Email 2</th>\n",
       "      <td>8</td>\n",
       "      <td>13</td>\n",
       "      <td>24</td>\n",
       "      <td>6</td>\n",
       "      <td>6</td>\n",
       "      <td>2</td>\n",
       "      <td>102</td>\n",
       "      <td>1</td>\n",
       "      <td>27</td>\n",
       "      <td>18</td>\n",
       "      <td>...</td>\n",
       "      <td>0</td>\n",
       "      <td>0</td>\n",
       "      <td>0</td>\n",
       "      <td>0</td>\n",
       "      <td>0</td>\n",
       "      <td>0</td>\n",
       "      <td>0</td>\n",
       "      <td>1</td>\n",
       "      <td>0</td>\n",
       "      <td>0</td>\n",
       "    </tr>\n",
       "    <tr>\n",
       "      <th>Email 3</th>\n",
       "      <td>0</td>\n",
       "      <td>0</td>\n",
       "      <td>1</td>\n",
       "      <td>0</td>\n",
       "      <td>0</td>\n",
       "      <td>0</td>\n",
       "      <td>8</td>\n",
       "      <td>0</td>\n",
       "      <td>0</td>\n",
       "      <td>4</td>\n",
       "      <td>...</td>\n",
       "      <td>0</td>\n",
       "      <td>0</td>\n",
       "      <td>0</td>\n",
       "      <td>0</td>\n",
       "      <td>0</td>\n",
       "      <td>0</td>\n",
       "      <td>0</td>\n",
       "      <td>0</td>\n",
       "      <td>0</td>\n",
       "      <td>0</td>\n",
       "    </tr>\n",
       "    <tr>\n",
       "      <th>Email 4</th>\n",
       "      <td>0</td>\n",
       "      <td>5</td>\n",
       "      <td>22</td>\n",
       "      <td>0</td>\n",
       "      <td>5</td>\n",
       "      <td>1</td>\n",
       "      <td>51</td>\n",
       "      <td>2</td>\n",
       "      <td>10</td>\n",
       "      <td>1</td>\n",
       "      <td>...</td>\n",
       "      <td>0</td>\n",
       "      <td>0</td>\n",
       "      <td>0</td>\n",
       "      <td>0</td>\n",
       "      <td>0</td>\n",
       "      <td>0</td>\n",
       "      <td>0</td>\n",
       "      <td>0</td>\n",
       "      <td>0</td>\n",
       "      <td>0</td>\n",
       "    </tr>\n",
       "    <tr>\n",
       "      <th>Email 5</th>\n",
       "      <td>7</td>\n",
       "      <td>6</td>\n",
       "      <td>17</td>\n",
       "      <td>1</td>\n",
       "      <td>5</td>\n",
       "      <td>2</td>\n",
       "      <td>57</td>\n",
       "      <td>0</td>\n",
       "      <td>9</td>\n",
       "      <td>3</td>\n",
       "      <td>...</td>\n",
       "      <td>0</td>\n",
       "      <td>0</td>\n",
       "      <td>0</td>\n",
       "      <td>0</td>\n",
       "      <td>0</td>\n",
       "      <td>0</td>\n",
       "      <td>0</td>\n",
       "      <td>1</td>\n",
       "      <td>0</td>\n",
       "      <td>0</td>\n",
       "    </tr>\n",
       "  </tbody>\n",
       "</table>\n",
       "<p>5 rows × 3001 columns</p>\n",
       "</div>"
      ],
      "text/plain": [
       "           the  to  ect  and  for  of    a  you  hou  in  ...  connevey  jay  \\\n",
       "Email No.                                                 ...                  \n",
       "Email 1      0   0    1    0    0   0    2    0    0   0  ...         0    0   \n",
       "Email 2      8  13   24    6    6   2  102    1   27  18  ...         0    0   \n",
       "Email 3      0   0    1    0    0   0    8    0    0   4  ...         0    0   \n",
       "Email 4      0   5   22    0    5   1   51    2   10   1  ...         0    0   \n",
       "Email 5      7   6   17    1    5   2   57    0    9   3  ...         0    0   \n",
       "\n",
       "           valued  lay  infrastructure  military  allowing  ff  dry  \\\n",
       "Email No.                                                             \n",
       "Email 1         0    0               0         0         0   0    0   \n",
       "Email 2         0    0               0         0         0   1    0   \n",
       "Email 3         0    0               0         0         0   0    0   \n",
       "Email 4         0    0               0         0         0   0    0   \n",
       "Email 5         0    0               0         0         0   1    0   \n",
       "\n",
       "           Prediction  \n",
       "Email No.              \n",
       "Email 1             0  \n",
       "Email 2             0  \n",
       "Email 3             0  \n",
       "Email 4             0  \n",
       "Email 5             0  \n",
       "\n",
       "[5 rows x 3001 columns]"
      ]
     },
     "execution_count": 9,
     "metadata": {},
     "output_type": "execute_result"
    }
   ],
   "source": [
    "pd_email.head()"
   ]
  },
  {
   "cell_type": "code",
   "execution_count": 10,
   "metadata": {},
   "outputs": [
    {
     "data": {
      "text/plain": [
       "array([[ 0,  0,  1, ...,  0,  0,  0],\n",
       "       [ 8, 13, 24, ...,  1,  0,  0],\n",
       "       [ 0,  0,  1, ...,  0,  0,  0],\n",
       "       ...,\n",
       "       [ 6,  8,  1, ...,  0,  0,  0],\n",
       "       [ 8,  6,  2, ...,  0,  0,  0],\n",
       "       [13, 12,  3, ...,  0,  0,  0]], dtype=int64)"
      ]
     },
     "execution_count": 10,
     "metadata": {},
     "output_type": "execute_result"
    }
   ],
   "source": [
    "pd_email.to_numpy()"
   ]
  },
  {
   "cell_type": "code",
   "execution_count": 11,
   "metadata": {},
   "outputs": [
    {
     "data": {
      "text/plain": [
       "array([3])"
      ]
     },
     "execution_count": 11,
     "metadata": {},
     "output_type": "execute_result"
    }
   ],
   "source": [
    "a = np.array([1,2])\n",
    "b = np.array([3])\n",
    "a=b\n",
    "a"
   ]
  },
  {
   "cell_type": "code",
   "execution_count": 8,
   "metadata": {},
   "outputs": [],
   "source": [
    "def n_fold_validation(dataset:pd.DataFrame, classifier, n):\n",
    "    total_len = len(dataset)\n",
    "    each_len = total_len/n\n",
    "    n_fold_index = []\n",
    "    score = {\"Accuracy\":[], \"Precision\":[], \"Recall\":[]}\n",
    "    for i in range(n):\n",
    "        n_fold_index.append(np.arange(i*each_len, (i+1)*each_len).astype(int))\n",
    "    for i in range(n):\n",
    "        test_set = dataset.iloc[n_fold_index[i]]\n",
    "        train_index = []\n",
    "        for j in range(n):\n",
    "            if j != i:\n",
    "                train_index = np.hstack((train_index, n_fold_index[j]))\n",
    "        train_set = dataset.iloc[train_index]\n",
    "        classifier.fit(train_set)\n",
    "        result = classifier.predict(test_set.iloc[:,:-1].to_numpy())\n",
    "        #result = np.random.randint(2,size = 1000)\n",
    "        truth = test_set.iloc[:, -1].to_numpy()\n",
    "        TP = np.sum(truth[truth==1]==result[truth==1])\n",
    "        TN = np.sum(truth[truth==0]==result[truth==0])\n",
    "        FP = np.sum(result==1) - TP\n",
    "        FN = np.sum(result==0) - TN\n",
    "        print(\"Accuracy: %f, Precision: %f, Recall: %f\"%((TP+TN)/each_len, (TP)/(TP+FP), (TP)/(TP+FN)))\n",
    "        print(\"TP = %d, TN = %d, FP = %d, FN = %d\"%(TP, TN, FP, FN))\n",
    "        score['Accuracy'].append((TP+TN)/each_len)\n",
    "        score['Precision'].append((TP)/(TP+FP))\n",
    "        score['Recall'].append((TP)/(TP+FN))\n",
    "    return score\n",
    "\n"
   ]
  },
  {
   "cell_type": "code",
   "execution_count": null,
   "metadata": {},
   "outputs": [],
   "source": [
    "my_KNN = KNN_Classifier(1)\n",
    "five_fold_result_1NN = n_fold_validation(pd_email, my_KNN, 5)\n",
    "'''\n",
    "Accuracy: 0.825000, Precision: 0.654494, Recall: 0.817544\n",
    "Accuracy: 0.853000, Precision: 0.685714, Recall: 0.866426\n",
    "Accuracy: 0.862000, Precision: 0.721212, Recall: 0.838028\n",
    "Accuracy: 0.851000, Precision: 0.716418, Recall: 0.816327\n",
    "Accuracy: 0.775000, Precision: 0.605744, Recall: 0.758170\n",
    "'''"
   ]
  },
  {
   "cell_type": "code",
   "execution_count": 14,
   "metadata": {},
   "outputs": [],
   "source": [
    "class Logistic_gradient:\n",
    "    def __init__(self) :\n",
    "        self.theta = None\n",
    "    \n",
    "    def fit(self, data:pd.DataFrame):\n",
    "        X = data.iloc[:,:-1].to_numpy()\n",
    "        Y = data.iloc[:, -1].to_numpy().reshape(-1,1)\n",
    "        self._fit_XY(X, Y)\n",
    "    \n",
    "    def sigmoid(self, x):\n",
    "        return 1/(1+np.exp(-x))\n",
    "\n",
    "    def _fit_XY(self, X, Y):\n",
    "        self.theta = np.zeros(X.shape[1])\n",
    "        epoch = 30\n",
    "        lr = 0.0012\n",
    "        for i in range(epoch):\n",
    "            for j in range(X.shape[0]):\n",
    "                #gradient descent\n",
    "                self.theta = self.theta - lr*X[j]*(self.sigmoid(np.dot(self.theta, X[j]))-Y[j])\n",
    "    \n",
    "    def predict(self, X):\n",
    "        threshold = 0.5\n",
    "        pred_prob = self.sigmoid(np.matmul(X, self.theta.T))\n",
    "        prediction = np.zeros(pred_prob.shape)\n",
    "        prediction[pred_prob>threshold] = 1\n",
    "        return prediction\n",
    "    \n",
    "    def predict_prob(self, X):\n",
    "        pred_prob = self.sigmoid(np.matmul(X, self.theta.T))\n",
    "        return pred_prob\n"
   ]
  },
  {
   "cell_type": "code",
   "execution_count": 15,
   "metadata": {},
   "outputs": [
    {
     "name": "stderr",
     "output_type": "stream",
     "text": [
      "C:\\Users\\Lenovo\\AppData\\Local\\Temp/ipykernel_23584/3058811734.py:11: RuntimeWarning: overflow encountered in exp\n",
      "  return 1/(1+np.exp(-x))\n"
     ]
    },
    {
     "name": "stdout",
     "output_type": "stream",
     "text": [
      "Accuracy: 0.932000, Precision: 0.928854, Recall: 0.824561\n",
      "TP = 235, TN = 697, FP = 18, FN = 50\n",
      "Accuracy: 0.930000, Precision: 0.919028, Recall: 0.819495\n",
      "TP = 227, TN = 703, FP = 20, FN = 50\n",
      "Accuracy: 0.924000, Precision: 0.936975, Recall: 0.785211\n",
      "TP = 223, TN = 701, FP = 15, FN = 61\n",
      "Accuracy: 0.912000, Precision: 0.925620, Recall: 0.761905\n",
      "TP = 224, TN = 688, FP = 18, FN = 70\n",
      "Accuracy: 0.900000, Precision: 0.855172, Recall: 0.810458\n",
      "TP = 248, TN = 652, FP = 42, FN = 58\n"
     ]
    }
   ],
   "source": [
    "my_logistic = Logistic_gradient()\n",
    "five_fold_result_1NN = n_fold_validation(pd_email, my_logistic, 5)"
   ]
  },
  {
   "cell_type": "code",
   "execution_count": null,
   "metadata": {},
   "outputs": [],
   "source": [
    "ks = [1,3,5,7,10]\n",
    "results = []\n",
    "for i in ks:\n",
    "    my_KNN = KNN_Classifier(i)\n",
    "    print(i)\n",
    "    five_fold_result = n_fold_validation(pd_email, my_KNN, 5)\n",
    "    results.append(five_fold_result)"
   ]
  },
  {
   "cell_type": "code",
   "execution_count": null,
   "metadata": {},
   "outputs": [],
   "source": [
    "'''\n",
    "1\n",
    "Accuracy: 0.825000, Precision: 0.654494, Recall: 0.817544\n",
    "Accuracy: 0.853000, Precision: 0.685714, Recall: 0.866426\n",
    "Accuracy: 0.862000, Precision: 0.721212, Recall: 0.838028\n",
    "Accuracy: 0.851000, Precision: 0.716418, Recall: 0.816327\n",
    "Accuracy: 0.775000, Precision: 0.605744, Recall: 0.758170\n",
    "3\n",
    "Accuracy: 0.845000, Precision: 0.677596, Recall: 0.870175\n",
    "Accuracy: 0.850000, Precision: 0.695385, Recall: 0.815884\n",
    "Accuracy: 0.859000, Precision: 0.724138, Recall: 0.813380\n",
    "Accuracy: 0.879000, Precision: 0.776358, Recall: 0.826531\n",
    "Accuracy: 0.775000, Precision: 0.609756, Recall: 0.735294\n",
    "5\n",
    "Accuracy: 0.837000, Precision: 0.668508, Recall: 0.849123\n",
    "Accuracy: 0.850000, Precision: 0.706840, Recall: 0.783394\n",
    "Accuracy: 0.869000, Precision: 0.747573, Recall: 0.813380\n",
    "Accuracy: 0.869000, Precision: 0.762058, Recall: 0.806122\n",
    "Accuracy: 0.779000, Precision: 0.613941, Recall: 0.748366\n",
    "7\n",
    "Accuracy: 0.839000, Precision: 0.671271, Recall: 0.852632\n",
    "Accuracy: 0.864000, Precision: 0.725240, Recall: 0.819495\n",
    "Accuracy: 0.875000, Precision: 0.755627, Recall: 0.827465\n",
    "Accuracy: 0.874000, Precision: 0.778146, Recall: 0.799320\n",
    "Accuracy: 0.779000, Precision: 0.614555, Recall: 0.745098\n",
    "10\n",
    "Accuracy: 0.862000, Precision: 0.731861, Recall: 0.814035\n",
    "Accuracy: 0.869000, Precision: 0.750000, Recall: 0.790614\n",
    "Accuracy: 0.878000, Precision: 0.785211, Recall: 0.785211\n",
    "Accuracy: 0.887000, Precision: 0.826715, Recall: 0.778912\n",
    "Accuracy: 0.782000, Precision: 0.631737, Recall: 0.689542\n",
    "'''"
   ]
  },
  {
   "cell_type": "code",
   "execution_count": 113,
   "metadata": {},
   "outputs": [],
   "source": [
    "import pickle\n",
    "\n",
    "# Read dictionary pkl file\n",
    "with open('hw3Data/results.pkl', 'wb') as fp:\n",
    "    pickle.dump(results, fp)\n"
   ]
  },
  {
   "cell_type": "code",
   "execution_count": 9,
   "metadata": {},
   "outputs": [],
   "source": [
    "import pickle\n",
    "\n",
    "# Read dictionary pkl file\n",
    "with open('hw3Data/results.pkl', 'rb') as fp:\n",
    "    loaded_result = pickle.load(fp)\n"
   ]
  },
  {
   "cell_type": "code",
   "execution_count": 12,
   "metadata": {},
   "outputs": [],
   "source": [
    "Accuracy_list = []\n",
    "for i in loaded_result:\n",
    "    Accuracy_list.append(np.array(i['Accuracy']).mean())"
   ]
  },
  {
   "cell_type": "code",
   "execution_count": 13,
   "metadata": {},
   "outputs": [
    {
     "data": {
      "text/plain": [
       "[0.8332, 0.8416, 0.8408, 0.8462, 0.8556000000000001]"
      ]
     },
     "execution_count": 13,
     "metadata": {},
     "output_type": "execute_result"
    }
   ],
   "source": [
    "Accuracy_list"
   ]
  },
  {
   "cell_type": "code",
   "execution_count": 22,
   "metadata": {},
   "outputs": [
    {
     "data": {
      "image/png": "[encoded data removed]",
      "text/plain": [
       "<Figure size 432x288 with 1 Axes>"
      ]
     },
     "metadata": {
      "needs_background": "light"
     },
     "output_type": "display_data"
    }
   ],
   "source": [
    "import matplotlib.pyplot as plt\n",
    "\n",
    "# Sample list of data points\n",
    "  # Replace this list with your data points\n",
    "\n",
    "# Create a line plot\n",
    "plt.plot([1,3,5,7,10], Accuracy_list, marker='o', color='b', label='Data Points', linestyle='-')\n",
    "\n",
    "# Add labels and title\n",
    "plt.xlabel('K')\n",
    "plt.ylabel('Average Accuracy')\n",
    "plt.title('KNN 5-fold Cross Validation')\n",
    "\n",
    "# Display legend\n",
    "plt.grid()\n",
    "# Display the plot\n",
    "plt.savefig('hw3Plot/Knn_5-fold_validation.pdf')\n",
    "plt.show()"
   ]
  },
  {
   "cell_type": "code",
   "execution_count": 17,
   "metadata": {},
   "outputs": [],
   "source": [
    "\n",
    "def pred_prob_one_split(dataset:pd.DataFrame, classifier, n, split_i = 1):\n",
    "    total_len = len(dataset)\n",
    "    each_len = total_len/n\n",
    "    n_fold_index = []\n",
    "    score = {\"Accuracy\":[], \"Precision\":[], \"Recall\":[]}\n",
    "    for i in range(n):\n",
    "        n_fold_index.append(np.arange(i*each_len, (i+1)*each_len).astype(int))\n",
    "    test_set = dataset.iloc[n_fold_index[i]]\n",
    "    train_index = []\n",
    "    for j in range(n):\n",
    "        if j != split_i:\n",
    "            train_index = np.hstack((train_index, n_fold_index[j]))\n",
    "    train_set = dataset.iloc[train_index]\n",
    "    classifier.fit(train_set)\n",
    "    result_prob = classifier.predict_prob(test_set.iloc[:,:-1].to_numpy())\n",
    "    #result = np.random.randint(2,size = 1000)\n",
    "    truth = test_set.iloc[:, -1].to_numpy()\n",
    "    # TP = np.sum(truth[truth==1]==result[truth==1])\n",
    "    # TN = np.sum(truth[truth==0]==result[truth==0])\n",
    "    # FP = np.sum(result==1) - TP\n",
    "    # FN = np.sum(result==0) - TN\n",
    "    # print(\"Accuracy: %f, Precision: %f, Recall: %f\"%((TP+TN)/each_len, (TP)/(TP+FP), (TP)/(TP+FN)))\n",
    "    # print(\"TP = %d, TN = %d, FP = %d, FN = %d\"%(TP, TN, FP, FN))\n",
    "    # score['Accuracy'].append((TP+TN)/each_len)\n",
    "    # score['Precision'].append((TP)/(TP+FP))\n",
    "    # score['Recall'].append((TP)/(TP+FN))\n",
    "    return result_prob, truth"
   ]
  },
  {
   "cell_type": "code",
   "execution_count": 18,
   "metadata": {},
   "outputs": [
    {
     "name": "stderr",
     "output_type": "stream",
     "text": [
      "C:\\Users\\Lenovo\\AppData\\Local\\Temp/ipykernel_23584/3058811734.py:11: RuntimeWarning: overflow encountered in exp\n",
      "  return 1/(1+np.exp(-x))\n"
     ]
    }
   ],
   "source": [
    "knn_roc = KNN_Classifier(5)\n",
    "logistic_roc = Logistic_gradient()\n",
    "prob_logistic, truth_logistic = pred_prob_one_split(pd_email, logistic_roc, 5, 0)\n",
    "prob_knn, truth_knn = pred_prob_one_split(pd_email, knn_roc, 5, 0)"
   ]
  },
  {
   "cell_type": "code",
   "execution_count": 35,
   "metadata": {},
   "outputs": [
    {
     "data": {
      "image/png": "[encoded data removed]",
      "text/plain": [
       "<Figure size 432x288 with 1 Axes>"
      ]
     },
     "metadata": {
      "needs_background": "light"
     },
     "output_type": "display_data"
    }
   ],
   "source": [
    "import matplotlib.pyplot as plt  # doctest: +SKIP\n",
    "import numpy as np\n",
    "from sklearn import metrics\n",
    "# y = np.array([0, 0, 1, 1])\n",
    "# pred = np.array([0.1, 0.4, 0.35, 0.8])\n",
    "fpr_l, tpr_l, thresholds_l = metrics.roc_curve(truth_logistic, prob_logistic)\n",
    "for i in range(len(prob_knn)):\n",
    "     if prob_knn[i]==0.99:\n",
    "         prob_knn[i] = 1\n",
    "fpr_k, tpr_k, thresholds_k = metrics.roc_curve(truth_knn, prob_knn)\n",
    "roc_auc_l = metrics.auc(fpr_l, tpr_l)\n",
    "roc_auc_k = metrics.auc(fpr_k, tpr_k)\n",
    "display_1 = metrics.RocCurveDisplay(fpr=fpr_k , tpr=tpr_k , roc_auc=roc_auc_k ,estimator_name='KNN k=5')\n",
    "display_2 = metrics.RocCurveDisplay(fpr=fpr_l, tpr=tpr_l, roc_auc=roc_auc_l,estimator_name='Logistic Regression')\n",
    "ax1 = display_1.plot()  # doctest: +SKIP\n",
    "ax2 = display_2.plot(ax=display_1.ax_)  # doctest: +SKIP\n",
    "plt.savefig('RocQ2.pdf')"
   ]
  },
  {
   "cell_type": "code",
   "execution_count": 34,
   "metadata": {},
   "outputs": [
    {
     "data": {
      "text/plain": [
       "array([2.00000000e+000, 1.00000000e+000, 1.00000000e+000, 1.00000000e+000,\n",
       "       1.00000000e+000, 9.99869825e-001, 9.99860888e-001, 9.98601426e-001,\n",
       "       9.98525486e-001, 9.93817886e-001, 9.93804620e-001, 9.91179395e-001,\n",
       "       9.86538420e-001, 9.69259260e-001, 9.48583337e-001, 9.38668495e-001,\n",
       "       9.29905788e-001, 9.07639928e-001, 8.80236714e-001, 8.55294253e-001,\n",
       "       8.39248584e-001, 8.20381890e-001, 7.30389451e-001, 6.15831147e-001,\n",
       "       3.75989828e-001, 2.96354246e-001, 2.49472406e-001, 2.25862752e-001,\n",
       "       2.11807863e-001, 1.97445687e-001, 1.71678947e-001, 1.44862883e-001,\n",
       "       8.31750030e-002, 6.60876345e-002, 6.13228311e-002, 6.08138807e-002,\n",
       "       5.18249706e-002, 3.53521454e-002, 3.22564892e-002, 1.82632310e-002,\n",
       "       1.54722341e-002, 1.34127532e-002, 6.08926155e-003, 4.94468223e-003,\n",
       "       4.80249258e-003, 2.58339240e-003, 2.11231407e-003, 1.71160633e-003,\n",
       "       1.25373041e-003, 1.23120387e-003, 1.15089745e-003, 1.01609834e-003,\n",
       "       8.28033951e-004, 8.17150125e-004, 4.87514568e-004, 4.57443237e-004,\n",
       "       3.71666471e-004, 3.51744112e-004, 1.61812793e-004, 1.41579024e-004,\n",
       "       1.20054085e-004, 8.73166282e-005, 4.49484325e-005, 3.53744733e-005,\n",
       "       3.48279101e-005, 3.08292542e-005, 2.77542129e-005, 2.59585855e-005,\n",
       "       2.37163585e-005, 1.65309668e-005, 1.20433221e-005, 9.47110627e-006,\n",
       "       6.73529230e-006, 5.63392177e-006, 3.80960280e-006, 3.08989458e-006,\n",
       "       1.55955698e-006, 1.27536306e-006, 6.23406016e-007, 2.69001360e-007,\n",
       "       2.49194971e-007, 1.64200773e-007, 8.69209404e-008, 7.07361030e-008,\n",
       "       5.53378053e-008, 3.23525117e-008, 1.63672852e-008, 1.55090577e-008,\n",
       "       1.16877449e-008, 1.01284623e-008, 6.81481932e-009, 5.81349325e-009,\n",
       "       5.24649457e-009, 1.28838478e-009, 7.24227157e-010, 5.03588894e-010,\n",
       "       2.83832395e-010, 1.24911748e-010, 1.18892195e-010, 4.07565806e-011,\n",
       "       3.86652042e-011, 3.60562207e-011, 2.05831179e-011, 1.86725722e-011,\n",
       "       1.34505906e-011, 1.02705108e-011, 5.74892885e-012, 5.36094451e-012,\n",
       "       4.54716729e-012, 3.80557142e-012, 2.43976832e-012, 2.35567020e-012,\n",
       "       2.21478114e-012, 1.80028103e-012, 8.78290862e-013, 8.64434992e-013,\n",
       "       5.86702055e-013, 5.63825095e-013, 1.14411652e-013, 1.02557389e-013,\n",
       "       5.01766807e-014, 4.96985395e-014, 7.50145157e-015, 7.34709623e-015,\n",
       "       4.10660874e-015, 3.91025140e-015, 1.81403438e-015, 1.71155107e-015,\n",
       "       1.44345820e-015, 1.54174423e-016, 1.50910431e-016, 4.62940665e-017,\n",
       "       4.01256633e-017, 1.23308083e-017, 7.90111401e-018, 7.62165287e-019,\n",
       "       5.14085533e-019, 1.86210472e-019, 1.76715162e-019, 6.23837288e-020,\n",
       "       5.83959186e-020, 5.52080757e-020, 5.23747067e-020, 2.57140362e-020,\n",
       "       2.20272194e-020, 2.02025419e-020, 1.07803179e-020, 1.23912773e-021,\n",
       "       1.10304119e-021, 4.45498431e-022, 3.79760440e-022, 9.45255285e-023,\n",
       "       7.73645757e-023, 4.75668005e-023, 3.29030667e-023, 1.89092093e-023,\n",
       "       1.48499502e-023, 8.01118496e-024, 7.05250720e-024, 5.86556838e-027,\n",
       "       5.81439901e-027, 1.03273667e-027, 8.74562933e-028, 5.25110104e-028,\n",
       "       4.38382765e-028, 2.80563395e-028, 2.33260023e-028, 5.20675868e-032,\n",
       "       4.39783961e-032, 3.70410143e-032, 2.92213431e-032, 3.55991933e-033,\n",
       "       3.49288325e-033, 3.25485766e-034, 2.64774459e-034, 1.21457260e-034,\n",
       "       6.16018964e-035, 6.40044725e-039, 3.65951972e-039, 5.32970566e-041,\n",
       "       2.50484024e-041, 3.41921876e-044, 2.48330759e-044, 1.96378109e-046,\n",
       "       2.65753844e-047, 7.81470619e-048, 5.99803628e-048, 4.60605805e-049,\n",
       "       2.22149892e-049, 6.44564016e-050, 1.11890606e-050, 4.85039045e-053,\n",
       "       4.28037683e-053, 6.50149882e-054, 4.24887085e-054, 1.35902589e-054,\n",
       "       7.34984199e-055, 1.17803170e-059, 1.57424972e-060, 1.33984076e-061,\n",
       "       4.75753530e-062, 5.62207817e-067, 4.93673608e-067, 1.36632755e-075,\n",
       "       5.59499439e-076, 2.89077505e-078, 1.60865796e-078, 7.98516120e-083,\n",
       "       2.35736893e-083, 9.97592190e-089, 7.26409244e-089, 1.14745830e-099,\n",
       "       1.64736199e-101, 8.60535672e-156, 9.64771074e-157, 6.20167277e-185,\n",
       "       3.00123063e-185, 1.67102568e-292, 0.00000000e+000])"
      ]
     },
     "execution_count": 34,
     "metadata": {},
     "output_type": "execute_result"
    }
   ],
   "source": [
    "thresholds_l"
   ]
  },
  {
   "cell_type": "code",
   "execution_count": 68,
   "metadata": {},
   "outputs": [
    {
     "data": {
      "image/png": "[encoded data removed]",
      "text/plain": [
       "<Figure size 432x288 with 1 Axes>"
      ]
     },
     "metadata": {
      "needs_background": "light"
     },
     "output_type": "display_data"
    }
   ],
   "source": [
    "q1_5_confidence = [0.95,0.85,0.8,0.7,0.55,0.45,0.4,0.3,0.2,0.1]\n",
    "q1_5_truth = [1,1,0,1,1,0,1,1,0,0]\n",
    "fpr, tpr, thresholds = metrics.roc_curve(q1_5_truth, q1_5_confidence)\n",
    "roc_auc = metrics.auc(fpr, tpr)\n",
    "display_3 = metrics.RocCurveDisplay(fpr=fpr , tpr=tpr, roc_auc=roc_auc ,estimator_name='Q1-5')\n",
    "display_3.plot()\n",
    "plt.savefig('hw3Plot/q1-5.pdf')"
   ]
  },
  {
   "cell_type": "code",
   "execution_count": 67,
   "metadata": {},
   "outputs": [
    {
     "data": {
      "text/plain": [
       "array([1.95, 0.95, 0.85, 0.8 , 0.55, 0.45, 0.3 , 0.1 ])"
      ]
     },
     "execution_count": 67,
     "metadata": {},
     "output_type": "execute_result"
    }
   ],
   "source": [
    "thresholds"
   ]
  }
 ],
 "metadata": {
  "kernelspec": {
   "display_name": "base",
   "language": "python",
   "name": "python3"
  },
  "language_info": {
   "codemirror_mode": {
    "name": "ipython",
    "version": 3
   },
   "file_extension": ".py",
   "mimetype": "text/x-python",
   "name": "python",
   "nbconvert_exporter": "python",
   "pygments_lexer": "ipython3",
   "version": "3.9.7"
  },
  "orig_nbformat": 4
 },
 "nbformat": 4,
 "nbformat_minor": 2
}
